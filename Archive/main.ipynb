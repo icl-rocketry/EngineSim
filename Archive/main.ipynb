{
 "cells": [
  {
   "cell_type": "code",
   "execution_count": null,
   "metadata": {},
   "outputs": [],
   "source": [
    "from rocketcea.cea_obj_w_units import CEA_Obj\n",
    "from rocketcea.cea_obj import add_new_fuel\n",
    "import numpy as np\n",
    "from matplotlib import pyplot as plt\n",
    "from scipy.optimize import root_scalar\n",
    "from pint import UnitRegistry\n",
    "from pyfluids import Fluid, FluidsList, Input"
   ]
  },
  {
   "cell_type": "code",
   "execution_count": null,
   "metadata": {},
   "outputs": [],
   "source": []
  }
 ],
 "metadata": {
  "language_info": {
   "name": "python"
  }
 },
 "nbformat": 4,
 "nbformat_minor": 2
}
